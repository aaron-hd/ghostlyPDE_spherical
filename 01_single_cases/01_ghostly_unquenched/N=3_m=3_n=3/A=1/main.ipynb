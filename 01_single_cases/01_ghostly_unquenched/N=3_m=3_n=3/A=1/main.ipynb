{
 "cells": [
  {
   "cell_type": "code",
   "execution_count": 1,
   "id": "4b88aead",
   "metadata": {
    "scrolled": true
   },
   "outputs": [],
   "source": [
    "using DifferentialEquations # for the actual time evolution\n",
    "using OrdinaryDiffEq # for ODEs\n",
    "using Plots # for plotting\n",
    "using Base.Threads # for parallelization\n",
    "using StaticArrays # somehow needed to use multiple variables in DifferentialEquations.jl\n",
    "\n",
    "using Plots, LaTeXStrings, Colors\n",
    "using Plots.PlotMeasures\n",
    "using LinearAlgebra\n",
    "\n",
    "using Random, Distributions\n",
    "\n",
    "using FFTW # discrete Fourier transform\n",
    "\n",
    "using JLD2 # for file saving"
   ]
  },
  {
   "cell_type": "code",
   "execution_count": 2,
   "id": "286aed72",
   "metadata": {},
   "outputs": [],
   "source": [
    "level = \"../../../../\"\n",
    "\n",
    "include(joinpath(level, \"src/4th-order-FD-stencils.jl\"));\n",
    "include(joinpath(level, \"src/evolution_noabs.jl\"));\n",
    "include(joinpath(level, \"src/hamiltonian_noabs.jl\"));\n",
    "include(joinpath(level, \"src/initial_data.jl\"));\n",
    "include(joinpath(level, \"src/visualisation.jl\"));\n",
    "\n",
    "include(\"../visualisation_for_paper.jl\");"
   ]
  },
  {
   "cell_type": "markdown",
   "id": "1bdbb4f3",
   "metadata": {},
   "source": [
    "### evolution"
   ]
  },
  {
   "cell_type": "code",
   "execution_count": 3,
   "id": "690a1d75",
   "metadata": {},
   "outputs": [
    {
     "data": {
      "text/plain": [
       "artisan_evolution_at_resolution (generic function with 1 method)"
      ]
     },
     "execution_count": 3,
     "metadata": {},
     "output_type": "execute_result"
    }
   ],
   "source": [
    "function artisan_evolution_at_resolution(Nx, stableRandomSeed, pModel, pInit)\n",
    "    # unpack model parameters\n",
    "    (mphi2, mchi2, lambdaCross, lambdaSelf, sigma, Ndim, lV, mV, nV) = pModel\n",
    "    \n",
    "    # define the domain\n",
    "    Lx = 2  # Physical length of the domain in x direction\n",
    "    dx = Lx/Nx  # Physical grid spacing\n",
    "    NboundaryPadding = 4 # Number of boundary points\n",
    "    \n",
    "    # set the grid parameters at the given resolution\n",
    "    pGrid = (dx, Nx, NboundaryPadding);\n",
    "\n",
    "    # set the time span\n",
    "    tspan = (0, 1.3);\n",
    "\n",
    "    # set the evolution method\n",
    "    time_integration_method = RK4();\n",
    "    \n",
    "    # generate initial conditions\n",
    "    u0 = initial_data(pGrid, pModel, pInit);\n",
    "    \n",
    "    # TODO: implement export of a plot of the initial data\n",
    "        \n",
    "    # set the problem\n",
    "    pHyper = (pGrid, pModel)\n",
    "    prob = ODEProblem(finite_differenced_pde_with_bc!, u0, tspan, pHyper);\n",
    "\n",
    "    sol = solve(\n",
    "        prob, time_integration_method, \n",
    "        saveat = tspan[end]/(2*10^3),\n",
    "        dt=dx/4, \n",
    "        adaptive = false, \n",
    "        dense=false, \n",
    "        maxiters=typemax(Int),\n",
    "        callback=field_size_callback\n",
    "    );\n",
    "        \n",
    "    # obtain the hamiltonian\n",
    "    hamiltonian = zeros(length(sol.u))\n",
    "    hamphi = zeros(length(sol.u))\n",
    "    hamchi = zeros(length(sol.u))\n",
    "    current_radiationphi = 0\n",
    "    current_radiationchi = 0\n",
    "    radiationphi = zeros(length(sol.u))\n",
    "    radiationchi = zeros(length(sol.u))\n",
    "    for i = 1:length(sol.u)\n",
    "        # radiation\n",
    "        dtMonitor = i <= 1 ? sol.t[i] : sol.t[i] - sol.t[i-1]\n",
    "        current_radiationphi += power_radiated_phi(sol.u[i], pHyper) * dtMonitor\n",
    "        radiationphi[i] = current_radiationphi \n",
    "        current_radiationchi += power_radiated_chi(sol.u[i], pHyper) * dtMonitor\n",
    "        radiationchi[i] = current_radiationchi \n",
    "        # bulk energies        \n",
    "        hamiltonian[i] = nintegrate_simps(hamiltonian_density(sol.u[i], pHyper), dx)\n",
    "        hamphi[i] = nintegrate_simps(hamiltonian_phi(sol.u[i], pHyper), dx)\n",
    "        hamchi[i] = nintegrate_simps(hamiltonian_chi(sol.u[i], pHyper), dx)\n",
    "        # add radiated energy to the total hamiltonian (for convergence)\n",
    "        hamiltonian[i] = hamiltonian[i] + current_radiationphi + current_radiationchi\n",
    "    end\n",
    "    \n",
    "    return (pGrid, sol, hamiltonian, hamphi, hamchi, radiationphi, radiationchi)\n",
    "end"
   ]
  },
  {
   "cell_type": "code",
   "execution_count": 4,
   "id": "d8b6c8c3",
   "metadata": {
    "scrolled": false
   },
   "outputs": [
    {
     "data": {
      "text/plain": [
       "evolution (generic function with 1 method)"
      ]
     },
     "execution_count": 4,
     "metadata": {},
     "output_type": "execute_result"
    }
   ],
   "source": [
    "function evolution()\n",
    "    \n",
    "    # some random seed (can be modified at will)\n",
    "    stableRandomSeed = rand(1:10^7)\n",
    "    stableRandomSeed = 1\n",
    "    print(\"persistent random seed: \", stableRandomSeed, \"\\n\")\n",
    "    \n",
    "    # parameters of the model\n",
    "    mphi2, mchi2 = 0, 0   # masses\n",
    "    lambdaCross = 1\n",
    "    lambdaSelf = 0\n",
    "    sigma = - 1   # ghostly boolean parameter (+1: no ghost; -1: ghost) \n",
    "    Ndim = 3   # number of spatial dimensions\n",
    "    lV, mV, nV = 4, 3, 3   # positive integer exponents in the potentials\n",
    "    \n",
    "    # parameters of the initial data\n",
    "    x0phi, x0chi = 1, 1   # location parameters\n",
    "    a0phi = 0.31   # amplitude parameters\n",
    "    a0chi = a0phi * 1  # amplitude parameters\n",
    "    p0phi, p0chi = 0.1, 0.1   # some other parameter (here used as width)\n",
    "    offsetphi, offsetchi = 0, 0   # parameter to control potential offset (TODO) \n",
    "    aStochastic = 0 \n",
    "    mink, maxk, = 0, 0  \n",
    "\n",
    "    # set the combined set of parameters \n",
    "    pModel = (mphi2, mchi2, lambdaCross, lambdaSelf, sigma, Ndim, lV, mV, nV);\n",
    "    pInit = (\n",
    "        x0phi, x0chi, # location parameters\n",
    "        a0phi, a0chi, # amplitude parameters\n",
    "        p0phi, p0chi, # some other parameter (here used as width)\n",
    "        offsetphi, offsetchi, # parameter to control potential offset (TODO) \n",
    "        aStochastic, mink, maxk, stableRandomSeed # preparation for stochastic parameters (TODO)\n",
    "    );\n",
    "     \n",
    "    # set some tables to store output\n",
    "    resTab = [2^i for i in 9:15]\n",
    "    pGridTab = []\n",
    "    solTab = []\n",
    "    hamiltonianTab = []\n",
    "    hamPhiTab = []\n",
    "    hamChiTab = []\n",
    "    radiationPhiTab = []\n",
    "    radiationChiTab = []\n",
    "    \n",
    "    #############################\n",
    "    # evolution\n",
    "    #############################\n",
    "\n",
    "    # run evolution\n",
    "    for res in resTab\n",
    "        print(\"current resolution: \", res, \" ... \\n\")\n",
    "        # run the evolution\n",
    "        @time (pGrid, sol, hamiltonian, hamPhi, hamChi, radiationPhi, radiationChi) = artisan_evolution_at_resolution(\n",
    "            res, stableRandomSeed, pModel, pInit\n",
    "        )\n",
    "        print(\"... terminated\", \"\\n\")\n",
    "        \n",
    "        # append the results\n",
    "        push!(pGridTab, pGrid)\n",
    "        push!(solTab, sol)\n",
    "        push!(hamiltonianTab, hamiltonian)\n",
    "        push!(hamPhiTab, hamPhi)\n",
    "        push!(hamChiTab, hamChi)\n",
    "        push!(radiationPhiTab, radiationPhi)\n",
    "        push!(radiationChiTab, radiationChi)\n",
    "    end\n",
    "    \n",
    "\n",
    "    \n",
    "    #############################\n",
    "    # SAVE OUTPUT DATA\n",
    "    #############################\n",
    "    \n",
    "#     dir_path = \"dat\"\n",
    "#     if !isdir(dir_path)\n",
    "#         mkpath(dir_path)\n",
    "#     end\n",
    "    \n",
    "#     timesteps = solTab[end].t\n",
    "    \n",
    "#     @save joinpath(pwd(), dir_path, string(stableRandomSeed,\".jld2\")) timesteps hamiltonianTab\n",
    "    \n",
    "#     print(\"Finished output.\", \"\\n\")\n",
    "    \n",
    "    #############################\n",
    "    # PLOTTING\n",
    "    #############################\n",
    "    \n",
    "    \n",
    "    dir_path = string(\"plots\")\n",
    "\n",
    "    # create the directory if it does not yet exist\n",
    "    if !isdir(dir_path)\n",
    "        print(\"Output plot directory does not exist. Creating it ...\\n\")\n",
    "        mkdir(dir_path)\n",
    "    else\n",
    "        print(\"Output plot directory already exists.\\n\")\n",
    "    end\n",
    "    \n",
    "    # plot and determine convergence \n",
    "    loss_of_convergence_time = save_convergence_plots(\n",
    "        resTab, pGridTab, solTab, hamiltonianTab, \n",
    "        dir_path\n",
    "    )\n",
    "    if loss_of_convergence_time >= solTab[end].t[end]\n",
    "        print(\"Convergence kept at all times.\\n\")\n",
    "    else\n",
    "        print(\"Convergence lost at time t=\",loss_of_convergence_time,\"\\n\")\n",
    "    end\n",
    "    loss_of_convergence_time = solTab[end].t[end]\n",
    "    \n",
    "    # call further plotting routines\n",
    "    \n",
    "    # plot energy components\n",
    "    save_energies_plot(\n",
    "        resTab, pGridTab, solTab, \n",
    "        hamiltonianTab, hamPhiTab, hamChiTab, radiationPhiTab, radiationChiTab,\n",
    "        dir_path,\n",
    "        loss_of_convergence_time=loss_of_convergence_time\n",
    "    )\n",
    "#     save_difference_in_energies_plot(\n",
    "#         resTab, pGridTab, solTab, \n",
    "#         hamiltonianTab, hamPhiTab, hamChiTab,\n",
    "#         dir_path,\n",
    "#         loss_of_convergence_time=loss_of_convergence_time\n",
    "#     )\n",
    "    \n",
    "    # plot density plots of the fields\n",
    "    save_density_plots(\n",
    "        solTab[end], pGridTab[end], pModel, pInit,\n",
    "        dir_path,\n",
    "        loss_of_convergence_time=loss_of_convergence_time\n",
    "    )\n",
    "    save_density_plots_for_paper(\n",
    "        solTab[end], pGridTab[end], pModel, pInit,\n",
    "        dir_path,\n",
    "        loss_of_convergence_time=loss_of_convergence_time\n",
    "    )\n",
    "    \n",
    "    # determine the index of convergence loss\n",
    "    loss_of_convergence_index = findfirst(t -> t > loss_of_convergence_time, solTab[end].t)\n",
    "    if loss_of_convergence_index === nothing\n",
    "        loss_of_convergence_index = length(solTab[end].t)\n",
    "    end\n",
    "#     # and then animate the fields\n",
    "#     save_animation_abslog(\n",
    "#         solTab[end][1:max(1,div(loss_of_convergence_index,1*10^2)):loss_of_convergence_index], \n",
    "#         pGridTab[end], pModel, pInit,\n",
    "#         dir_path\n",
    "#     );\n",
    "    save_animation(\n",
    "        solTab[end][1:max(1,div(loss_of_convergence_index,6*10^2)):loss_of_convergence_index], \n",
    "        pGridTab[end], pModel, pInit,\n",
    "        dir_path\n",
    "    );\n",
    "    \n",
    "    print(\"Finished plotting.\", \"\\n\")\n",
    "end"
   ]
  },
  {
   "cell_type": "markdown",
   "id": "0d482399",
   "metadata": {},
   "source": [
    "### main()"
   ]
  },
  {
   "cell_type": "code",
   "execution_count": 5,
   "id": "89b66a34",
   "metadata": {},
   "outputs": [
    {
     "data": {
      "text/plain": [
       "main (generic function with 1 method)"
      ]
     },
     "execution_count": 5,
     "metadata": {},
     "output_type": "execute_result"
    }
   ],
   "source": [
    "function main()\n",
    "    \n",
    "    n = 1\n",
    "    for i in 1:n\n",
    "        evolution()\n",
    "    end\n",
    "    \n",
    "end"
   ]
  },
  {
   "cell_type": "code",
   "execution_count": 6,
   "id": "d62e61f8",
   "metadata": {},
   "outputs": [
    {
     "name": "stdout",
     "output_type": "stream",
     "text": [
      "persistent random seed: 1\n",
      "current resolution: 512 ... \n",
      "Terminating because one of the fields grew too large.\n",
      "  8.491753 seconds (3.96 M allocations: 704.444 MiB, 2.89% gc time, 93.90% compilation time)\n",
      "... terminated\n",
      "current resolution: 1024 ... \n",
      "Terminating because one of the fields grew too large.\n",
      "  2.128094 seconds (302.73 k allocations: 1.343 GiB, 37.53% gc time)\n",
      "... terminated\n",
      "current resolution: 2048 ... \n",
      "Terminating because one of the fields grew too large.\n",
      "  4.070285 seconds (661.80 k allocations: 4.522 GiB, 3.15% gc time)\n",
      "... terminated\n",
      "current resolution: 4096 ... \n",
      "Terminating because one of the fields grew too large.\n",
      " 27.147671 seconds (1.19 M allocations: 16.485 GiB, 4.39% gc time)\n",
      "... terminated\n",
      "Output plot directory already exists.\n",
      "Convergence lost at time t=1.1882\n"
     ]
    },
    {
     "name": "stderr",
     "output_type": "stream",
     "text": [
      "GKS: Rectangle definition is invalid in routine SET_VIEWPORT\n",
      "GKS: Rectangle definition is invalid in routine SET_VIEWPORT\n",
      "GKS: Rectangle definition is invalid in routine SET_VIEWPORT\n",
      "GKS: Rectangle definition is invalid in routine SET_VIEWPORT\n",
      "GKS: Rectangle definition is invalid in routine SET_VIEWPORT\n",
      "GKS: Rectangle definition is invalid in routine SET_VIEWPORT\n",
      "GKS: Rectangle definition is invalid in routine SET_VIEWPORT\n",
      "GKS: Rectangle definition is invalid in routine SET_VIEWPORT\n"
     ]
    },
    {
     "name": "stdout",
     "output_type": "stream",
     "text": [
      "Finished plotting.\n"
     ]
    },
    {
     "name": "stderr",
     "output_type": "stream",
     "text": [
      "\u001b[36m\u001b[1m[ \u001b[22m\u001b[39m\u001b[36m\u001b[1mInfo: \u001b[22m\u001b[39mSaved animation to /home/aaron/Dropbox/university/0_research/2022-2025/stable_ghosts_Paris/field_theory/calculations_aaron/julia_code/n+1_radial/v3/01_single_examples/02_ghostly_unquenched_l=0/N=3_m=3_n=3/A=1/plots/animation_Nx=4096.mp4\n"
     ]
    }
   ],
   "source": [
    "main()"
   ]
  },
  {
   "cell_type": "markdown",
   "id": "130a44ae",
   "metadata": {},
   "source": [
    "### output"
   ]
  },
  {
   "cell_type": "code",
   "execution_count": 4,
   "id": "4edd4e1e",
   "metadata": {},
   "outputs": [],
   "source": [
    "using NBInclude\n",
    "nbexport(\"main.jl\", \"main.ipynb\")"
   ]
  },
  {
   "cell_type": "code",
   "execution_count": null,
   "id": "2f2196cd",
   "metadata": {},
   "outputs": [],
   "source": []
  },
  {
   "cell_type": "code",
   "execution_count": null,
   "id": "bddb2073",
   "metadata": {},
   "outputs": [],
   "source": []
  },
  {
   "cell_type": "code",
   "execution_count": null,
   "id": "92d75c28",
   "metadata": {},
   "outputs": [],
   "source": []
  },
  {
   "cell_type": "code",
   "execution_count": null,
   "id": "9f1c4f50",
   "metadata": {},
   "outputs": [],
   "source": []
  },
  {
   "cell_type": "code",
   "execution_count": null,
   "id": "e4c3db12",
   "metadata": {},
   "outputs": [],
   "source": []
  }
 ],
 "metadata": {
  "kernelspec": {
   "display_name": "Julia 1.10.1",
   "language": "julia",
   "name": "julia-1.10"
  },
  "language_info": {
   "file_extension": ".jl",
   "mimetype": "application/julia",
   "name": "julia",
   "version": "1.10.1"
  }
 },
 "nbformat": 4,
 "nbformat_minor": 5
}
