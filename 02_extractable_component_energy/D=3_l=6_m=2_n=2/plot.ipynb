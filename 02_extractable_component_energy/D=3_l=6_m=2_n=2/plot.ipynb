{
 "cells": [
  {
   "cell_type": "code",
   "execution_count": 1,
   "id": "4b88aead",
   "metadata": {
    "scrolled": true
   },
   "outputs": [],
   "source": [
    "using Plots # for plotting\n",
    "using Base.Threads # for parallelization\n",
    "using StaticArrays # somehow needed to use multiple variables in DifferentialEquations.jl\n",
    "\n",
    "using Plots \n",
    "using LaTeXStrings, Colors\n",
    "using Plots.PlotMeasures\n",
    "using LinearAlgebra\n",
    "\n",
    "using Random, Distributions\n",
    "\n",
    "using FFTW # discrete Fourier transform\n",
    "\n",
    "using JLD2 # for file saving\n",
    "using DataFrames, Statistics"
   ]
  },
  {
   "cell_type": "code",
   "execution_count": 2,
   "id": "601fe8cc",
   "metadata": {},
   "outputs": [],
   "source": [
    "phicolor = colorant\"#c51b8a\";\n",
    "chicolor = colorant\"#00FFFF\";"
   ]
  },
  {
   "cell_type": "markdown",
   "id": "9a7eeaba",
   "metadata": {},
   "source": [
    "# import and process data"
   ]
  },
  {
   "cell_type": "code",
   "execution_count": 3,
   "id": "1efa8b4f",
   "metadata": {},
   "outputs": [
    {
     "data": {
      "text/plain": [
       "load_results_as_dataframe (generic function with 1 method)"
      ]
     },
     "execution_count": 3,
     "metadata": {},
     "output_type": "execute_result"
    }
   ],
   "source": [
    "function load_results_as_dataframe(filename::AbstractString)\n",
    "    results = DataFrame(\n",
    "        stableRandomSeed = Int[],\n",
    "        amp = Float64[],\n",
    "        ratioPhi = Float64[],\n",
    "        ratioChi = Float64[]\n",
    "    )\n",
    "\n",
    "    jldopen(filename, \"r\") do file\n",
    "        for case_id in keys(file)\n",
    "            case = file[case_id]\n",
    "            push!(results, (\n",
    "                case[:stableRandomSeed],\n",
    "                case[:amp],\n",
    "                case[:ratioPhi],\n",
    "                case[:ratioChi]\n",
    "            ); promote=true)\n",
    "        end\n",
    "    end\n",
    "\n",
    "    return results\n",
    "end"
   ]
  },
  {
   "cell_type": "markdown",
   "id": "c5cf6e11",
   "metadata": {},
   "source": [
    "Load ++ ID dataset."
   ]
  },
  {
   "cell_type": "code",
   "execution_count": 4,
   "id": "d20f92a4",
   "metadata": {
    "scrolled": true
   },
   "outputs": [
    {
     "data": {
      "text/plain": [
       "1-element Vector{Int64}:\n",
       " 0"
      ]
     },
     "execution_count": 4,
     "metadata": {},
     "output_type": "execute_result"
    }
   ],
   "source": [
    "dir_path = \"++/dat\"\n",
    "filename = joinpath(\n",
    "    pwd(),\n",
    "    dir_path,\n",
    "    \"results.jld2\"\n",
    ")\n",
    "\n",
    "dfID = load_results_as_dataframe(filename)\n",
    "\n",
    "# df = filter(row -> row.stableRandomSeed != 8597453 , df)\n",
    "\n",
    "unique(dfID.stableRandomSeed)"
   ]
  },
  {
   "cell_type": "code",
   "execution_count": 5,
   "id": "55393c26",
   "metadata": {},
   "outputs": [],
   "source": [
    "dfID.ratio = (dfID.ratioPhi + dfID.ratioChi)/2;\n",
    "dfID.ratioMax = max.(dfID.ratioPhi,dfID.ratioChi);\n",
    "#println(df)"
   ]
  },
  {
   "cell_type": "markdown",
   "id": "f45e1c35",
   "metadata": {},
   "source": [
    "Load random ID datasets."
   ]
  },
  {
   "cell_type": "code",
   "execution_count": 14,
   "id": "bf8923e3",
   "metadata": {
    "scrolled": true
   },
   "outputs": [
    {
     "data": {
      "text/plain": [
       "50-element Vector{Int64}:\n",
       " 9920130\n",
       " 2167148\n",
       " 4594825\n",
       " 9289607\n",
       " 9082945\n",
       " 2789335\n",
       " 4966556\n",
       " 3579194\n",
       " 3774167\n",
       " 7887472\n",
       " 3073115\n",
       " 3422736\n",
       " 1878673\n",
       "       ⋮\n",
       " 6321166\n",
       " 3838545\n",
       " 8240556\n",
       " 4253005\n",
       " 6239779\n",
       " 8602818\n",
       " 2527185\n",
       "  764136\n",
       " 6083695\n",
       " 5956860\n",
       "  734469\n",
       " 5056809"
      ]
     },
     "execution_count": 14,
     "metadata": {},
     "output_type": "execute_result"
    }
   ],
   "source": [
    "dir_path = \"random_amplitude_random_width/dat\"\n",
    "filename = joinpath(\n",
    "    pwd(),\n",
    "    dir_path,\n",
    "    \"results1.jld2\"\n",
    ")\n",
    "\n",
    "df1 = load_results_as_dataframe(filename)\n",
    "\n",
    "dir_path = \"random_amplitude_random_width/dat\"\n",
    "filename = joinpath(\n",
    "    pwd(),\n",
    "    dir_path,\n",
    "    \"results2.jld2\"\n",
    ")\n",
    "\n",
    "df2 = load_results_as_dataframe(filename)\n",
    "\n",
    "df = vcat(df1, df2)\n",
    "\n",
    "# df = filter(row -> row.stableRandomSeed != 8597453 , df)\n",
    "\n",
    "unique(df.stableRandomSeed)"
   ]
  },
  {
   "cell_type": "code",
   "execution_count": 15,
   "id": "90d6595f",
   "metadata": {},
   "outputs": [],
   "source": [
    "df.ratio = (df.ratioPhi + df.ratioChi)/2;\n",
    "df.ratioMax = max.(df.ratioPhi,df.ratioChi);\n",
    "#println(df)"
   ]
  },
  {
   "cell_type": "code",
   "execution_count": 16,
   "id": "cb2e6eb6",
   "metadata": {},
   "outputs": [
    {
     "name": "stdout",
     "output_type": "stream",
     "text": [
      "seed: 9920130, cases: 80\n",
      "seed: 2167148, cases: 80\n",
      "seed: 4594825, cases: 80\n",
      "seed: 9289607, cases: 80\n",
      "seed: 9082945, cases: 80\n",
      "seed: 2789335, cases: 80\n",
      "seed: 4966556, cases: 80\n",
      "seed: 3579194, cases: 80\n",
      "seed: 3774167, cases: 79\n",
      "seed: 7887472, cases: 79\n",
      "seed: 3073115, cases: 80\n",
      "seed: 3422736, cases: 80\n",
      "seed: 1878673, cases: 80\n",
      "seed: 2923292, cases: 80\n",
      "seed: 4087734, cases: 80\n",
      "seed: 4503507, cases: 80\n",
      "seed: 1084538, cases: 80\n",
      "seed: 7266251, cases: 79\n",
      "seed: 4702800, cases: 79\n",
      "seed: 6119173, cases: 79\n",
      "seed: 6771503, cases: 80\n",
      "seed: 3822863, cases: 80\n",
      "seed: 4203244, cases: 80\n",
      "seed: 5668746, cases: 80\n",
      "seed: 6924766, cases: 79\n",
      "seed: 303193, cases: 79\n",
      "seed: 8780564, cases: 79\n",
      "seed: 8877992, cases: 79\n",
      "seed: 264962, cases: 79\n",
      "seed: 245663, cases: 79\n",
      "seed: 1801466, cases: 80\n",
      "seed: 5836599, cases: 80\n",
      "seed: 1966545, cases: 80\n",
      "seed: 1304088, cases: 80\n",
      "seed: 9853834, cases: 80\n",
      "seed: 6680495, cases: 80\n",
      "seed: 4838546, cases: 80\n",
      "seed: 7175382, cases: 64\n",
      "seed: 6321166, cases: 79\n",
      "seed: 3838545, cases: 79\n",
      "seed: 8240556, cases: 80\n",
      "seed: 4253005, cases: 80\n",
      "seed: 6239779, cases: 80\n",
      "seed: 8602818, cases: 80\n",
      "seed: 2527185, cases: 80\n",
      "seed: 764136, cases: 80\n",
      "seed: 6083695, cases: 79\n",
      "seed: 5956860, cases: 79\n",
      "seed: 734469, cases: 79\n",
      "seed: 5056809, cases: 79\n"
     ]
    }
   ],
   "source": [
    "for seed in unique(df.stableRandomSeed)\n",
    "    df_filtered = filter(row -> row.stableRandomSeed == seed , df)\n",
    "    println(\"seed: \",seed, \", cases: \", length(df_filtered.amp))\n",
    "end"
   ]
  },
  {
   "cell_type": "code",
   "execution_count": 17,
   "id": "51ca3752",
   "metadata": {},
   "outputs": [],
   "source": [
    "# Group by :amp\n",
    "grouped = groupby(df, :amp)\n",
    "\n",
    "# Compute means and stds for ratioPhi and ratioChi in one go\n",
    "stats_df = combine(grouped, \n",
    "    :ratioPhi => mean => :mean_ratioPhi, \n",
    "    :ratioPhi => std  => :std_ratioPhi,\n",
    "    :ratioChi => mean => :mean_ratioChi, \n",
    "    :ratioChi => std  => :std_ratioChi\n",
    ");"
   ]
  },
  {
   "cell_type": "markdown",
   "id": "336845bb",
   "metadata": {},
   "source": [
    "# plot critical amplitude"
   ]
  },
  {
   "cell_type": "code",
   "execution_count": 18,
   "id": "fd308848",
   "metadata": {},
   "outputs": [
    {
     "name": "stdout",
     "output_type": "stream",
     "text": [
      "Output plot directory already exists.\n"
     ]
    },
    {
     "data": {
      "text/plain": [
       "\"/home/aaron/Dropbox/university/0_research/2022-2025/stable_ghosts_Paris/field_theory/calculations_aaron/julia_code/n+1_radial/v3/XX_THANOS/D=3_l=6_m=2_n=2/plots/extracted_component_energy.png\""
      ]
     },
     "execution_count": 18,
     "metadata": {},
     "output_type": "execute_result"
    }
   ],
   "source": [
    "frame = plot(\n",
    "    layout=(1), size = (600,400), framestyle=:box, dpi = 400, \n",
    "    guidefont = \"Computer Modern\", tickfont = \"Computer Modern\",\n",
    "    xguidefontsize = 16, yguidefontsize = 16, \n",
    "    legendfontsize = 16, titlefontsize = 16, tickfontsize = 16,\n",
    "    legend=:topleft,\n",
    "    title=L\"$(N,\\ell,m,n)=(3,6,2,2),\\;\\lambda_{mn}=1,\\;\\lambda_\\ell=1$\",\n",
    "    xlabel=L\"$\\textrm{amplitude}\\;\\;\\overline{A}$\",\n",
    "    #xscale=:log,\n",
    "    #xticks = 0:1:10,\n",
    "    #xrange = (1.,13),\n",
    "    ylabel=L\"$\\textrm{extracted}\\;\\textrm{energy}\\;\\textrm{fraction}$\",\n",
    "#     yscale=:log,\n",
    "    #yticks = 0:1:6, \n",
    "    yrange = (0,0.17),\n",
    "#     yrange = (5e-6,5e1),\n",
    "#      yrange = (0,0.4),\n",
    "#     left_margin = 40px,\n",
    "     right_margin = 20px,\n",
    "#     bottom_margin = 10px,\n",
    "#     top_margin = 10px\n",
    ")\n",
    "\n",
    "\n",
    "plot!(\n",
    "    frame, \n",
    "    dfID.amp, \n",
    "    dfID.ratioPhi,\n",
    "    label = L\"$|\\!H_{\\phi} - H_{\\phi,0}|\\;/\\;(|\\!H_{\\phi,0}| + |\\!H_{\\chi,0}|)$\",\n",
    "    linewidth=3, linecolor=phicolor\n",
    ")\n",
    "\n",
    "plot!(\n",
    "    frame, \n",
    "    dfID.amp, \n",
    "    dfID.ratioChi,\n",
    "    label = L\"$|\\!H_{\\chi} - H_{\\chi,0}|\\;/\\;(|\\!H_{\\phi,0}| + |\\!H_{\\chi,0}|)$\",\n",
    "    linewidth=3, linecolor=chicolor, linestyle=:dot\n",
    ")\n",
    "\n",
    "\n",
    "\n",
    "labelBoolean = false;\n",
    "\n",
    "for seed in unique(df.stableRandomSeed)\n",
    "    \n",
    "    df_filtered = filter(row -> row.stableRandomSeed == seed, df)\n",
    "\n",
    "    plot!(\n",
    "        frame, \n",
    "        df_filtered.amp, \n",
    "        df_filtered.ratioPhi,\n",
    "        label = if labelBoolean L\"$|H_{\\phi} - H_{\\phi,0}|/|H_{0}|$\" else false end,\n",
    "        linewidth=0.5, linecolor=phicolor, alpha=0.1\n",
    "    )\n",
    "\n",
    "    plot!(\n",
    "        frame, \n",
    "        df_filtered.amp, \n",
    "        df_filtered.ratioChi,\n",
    "        label = if labelBoolean L\"$|H_{\\chi} - H_{\\chi,0}|/|H_{0}|$\" else false end,\n",
    "        linewidth=0.5, linecolor=chicolor, linestyle=:dot, alpha=0.3\n",
    "    )\n",
    "    \n",
    "    labelBoolean = false\n",
    "\n",
    "end\n",
    "\n",
    "# Plot mean line\n",
    "plot!(\n",
    "    frame, \n",
    "    stats_df.amp, \n",
    "    stats_df.mean_ratioPhi, \n",
    "    label = false, \n",
    "    linewidth=1, linecolor=phicolor\n",
    ")\n",
    "plot!(\n",
    "    frame, \n",
    "    stats_df.amp, \n",
    "    stats_df.mean_ratioChi, \n",
    "    label = false, \n",
    "    linewidth=1, linecolor=chicolor, linestyle=:dot\n",
    ")\n",
    "\n",
    "# Shaded band ± std\n",
    "plot!(\n",
    "    frame, \n",
    "    stats_df.amp, \n",
    "    stats_df.mean_ratioPhi .+ stats_df.std_ratioPhi, \n",
    "    fillrange = stats_df.mean_ratioPhi .- stats_df.std_ratioPhi, \n",
    "    fillalpha=0.2, fillcolor=phicolor, linecolor=:false, label=false\n",
    ")\n",
    "plot!(\n",
    "    frame, \n",
    "    stats_df.amp, \n",
    "    stats_df.mean_ratioChi .+ stats_df.std_ratioChi, \n",
    "    fillrange = stats_df.mean_ratioChi .- stats_df.std_ratioChi, \n",
    "    fillalpha=0.2, fillcolor=chicolor, linecolor=:false, label=false\n",
    ")\n",
    "\n",
    "\n",
    "plot_path = string(\"plots\")\n",
    "\n",
    "# create the directory if it does not yet exist\n",
    "if !isdir(plot_path)\n",
    "    print(\"Output plot directory does not exist. Creating it ...\\n\")\n",
    "    mkdir(plot_path)\n",
    "else\n",
    "    print(\"Output plot directory already exists.\\n\")\n",
    "end\n",
    "\n",
    "savefig(\n",
    "    frame, \n",
    "    joinpath(pwd(), plot_path, \"extracted_component_energy.png\")\n",
    ")"
   ]
  },
  {
   "cell_type": "code",
   "execution_count": 19,
   "id": "c1c2c163",
   "metadata": {
    "scrolled": true
   },
   "outputs": [
    {
     "name": "stdout",
     "output_type": "stream",
     "text": [
      "Output plot directory already exists.\n"
     ]
    },
    {
     "data": {
      "text/plain": [
       "\"/home/aaron/Dropbox/university/0_research/2022-2025/stable_ghosts_Paris/field_theory/calculations_aaron/julia_code/n+1_radial/v3/XX_THANOS/D=3_l=6_m=2_n=2/plots/extracted_component_energy_summed.png\""
      ]
     },
     "execution_count": 19,
     "metadata": {},
     "output_type": "execute_result"
    }
   ],
   "source": [
    "frame = plot(\n",
    "    layout=(1), size = (600,400), framestyle=:box, dpi = 400, \n",
    "    guidefont = \"Computer Modern\", tickfont = \"Computer Modern\",\n",
    "    xguidefontsize = 16, yguidefontsize = 16, \n",
    "    legendfontsize = 16, titlefontsize = 16, tickfontsize = 16,\n",
    "    legend=:topleft,\n",
    "    title=L\"$(N,\\ell,m,n)=(3,6,2,2),\\;\\lambda_{mn}=1,\\;\\lambda_\\ell=1$\",\n",
    "    xlabel=L\"$\\textrm{amplitude}\\;\\;A$\",\n",
    "    #xscale=:log,\n",
    "    #xticks = 0:1:10,\n",
    "    #xrange = (1.,13),\n",
    "    ylabel=L\"$\\textrm{extracted}\\;\\textrm{energy}\\;\\textrm{fraction}$\",\n",
    "    yscale=:log,\n",
    "    #yticks = 0:1:6, \n",
    "    #yrange = (8e-5,2e1),\n",
    "    yrange = (5e-6,2e2),\n",
    "#     left_margin = 40px,\n",
    "     right_margin = 20px,\n",
    "#     bottom_margin = 10px,\n",
    "#     top_margin = 10px\n",
    ")\n",
    "\n",
    "plot!(\n",
    "    frame, \n",
    "    dfID.amp, \n",
    "    2 * dfID.ratio,\n",
    "#     label = L\"$\\sum_{i=\\phi,\\chi}|H_{i} - H_{i,0}|/(|H_{\\phi,0}| + |H_{\\chi,0}|)$\",\n",
    "    label = L\"$\\sum\\!\\;|\\!H_{i} - H_{i,0}|\\,/\\;\\sum\\!\\;|\\!H_{i,0}|$\",\n",
    "    linewidth=3, linecolor=:black\n",
    ")\n",
    "\n",
    "labelBoolean = false;\n",
    "\n",
    "for seed in unique(df.stableRandomSeed)\n",
    "    \n",
    "    df_filtered = filter(row -> row.stableRandomSeed == seed, df)\n",
    "\n",
    "    plot!(\n",
    "        frame, \n",
    "        df_filtered.amp, \n",
    "        2 * df_filtered.ratio,\n",
    "        label = if labelBoolean L\"$|H_{\\phi} - H_{\\phi,0}|/|H_{0}|$\" else false end,\n",
    "        linewidth=0.5, linecolor=:black\n",
    "    )\n",
    "    \n",
    "    labelBoolean = false\n",
    "\n",
    "end\n",
    "\n",
    "plot_path = string(\"plots\")\n",
    "\n",
    "# create the directory if it does not yet exist\n",
    "if !isdir(plot_path)\n",
    "    print(\"Output plot directory does not exist. Creating it ...\\n\")\n",
    "    mkdir(plot_path)\n",
    "else\n",
    "    print(\"Output plot directory already exists.\\n\")\n",
    "end\n",
    "\n",
    "savefig(\n",
    "    frame, \n",
    "    joinpath(pwd(), plot_path, \"extracted_component_energy_summed.png\")\n",
    ")"
   ]
  },
  {
   "cell_type": "markdown",
   "id": "b6fd4392",
   "metadata": {},
   "source": [
    "# plot relative extracted kinetic energy"
   ]
  },
  {
   "cell_type": "code",
   "execution_count": null,
   "id": "e4d88045",
   "metadata": {},
   "outputs": [],
   "source": []
  },
  {
   "cell_type": "code",
   "execution_count": null,
   "id": "5c2d10b8",
   "metadata": {},
   "outputs": [],
   "source": []
  },
  {
   "cell_type": "code",
   "execution_count": null,
   "id": "0f8fae3a",
   "metadata": {},
   "outputs": [],
   "source": []
  },
  {
   "cell_type": "code",
   "execution_count": null,
   "id": "740bc46c",
   "metadata": {},
   "outputs": [],
   "source": []
  },
  {
   "cell_type": "code",
   "execution_count": null,
   "id": "9fefe8f7",
   "metadata": {},
   "outputs": [],
   "source": []
  }
 ],
 "metadata": {
  "kernelspec": {
   "display_name": "Julia 1.10.1",
   "language": "julia",
   "name": "julia-1.10"
  },
  "language_info": {
   "file_extension": ".jl",
   "mimetype": "application/julia",
   "name": "julia",
   "version": "1.10.1"
  }
 },
 "nbformat": 4,
 "nbformat_minor": 5
}
