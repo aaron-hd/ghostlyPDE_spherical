{
 "cells": [
  {
   "cell_type": "code",
   "execution_count": 1,
   "id": "4b88aead",
   "metadata": {
    "scrolled": true
   },
   "outputs": [],
   "source": [
    "using DifferentialEquations # for the actual time evolution\n",
    "using OrdinaryDiffEq # for ODEs\n",
    "using Plots # for plotting\n",
    "using Base.Threads # for parallelization\n",
    "using StaticArrays # somehow needed to use multiple variables in DifferentialEquations.jl\n",
    "\n",
    "using Plots, LaTeXStrings, Colors\n",
    "using Plots.PlotMeasures\n",
    "using LinearAlgebra\n",
    "\n",
    "using Random, Distributions\n",
    "\n",
    "using FFTW # discrete Fourier transform\n",
    "\n",
    "using JLD2 # for file saving"
   ]
  },
  {
   "cell_type": "code",
   "execution_count": 8,
   "id": "286aed72",
   "metadata": {},
   "outputs": [],
   "source": [
    "level = \"../../../\"\n",
    "\n",
    "include(joinpath(level, \"src/4th-order-FD-stencils.jl\"));\n",
    "include(joinpath(level, \"src/evolution_noabs.jl\"));\n",
    "include(joinpath(level, \"src/hamiltonian_noabs.jl\"));\n",
    "include(joinpath(level, \"src/initial_data.jl\"));\n",
    "include(joinpath(level, \"src/visualisation_L=4.jl\"));\n",
    "\n",
    "\n",
    "include(\"../visualisation_for_paper.jl\");"
   ]
  },
  {
   "cell_type": "markdown",
   "id": "1bdbb4f3",
   "metadata": {},
   "source": [
    "### evolution"
   ]
  },
  {
   "cell_type": "code",
   "execution_count": 9,
   "id": "690a1d75",
   "metadata": {},
   "outputs": [
    {
     "data": {
      "text/plain": [
       "artisan_evolution_at_resolution (generic function with 1 method)"
      ]
     },
     "execution_count": 9,
     "metadata": {},
     "output_type": "execute_result"
    }
   ],
   "source": [
    "function artisan_evolution_at_resolution(Nx, stableRandomSeed, pModel, pInit)\n",
    "    # unpack model parameters\n",
    "    (mphi2, mchi2, lambdaCross, lambdaSelf, sigma, Ndim, lV, mV, nV) = pModel\n",
    "    \n",
    "    # define the domain\n",
    "    Lx = 4.7  # Physical length of the domain in x direction\n",
    "    dx = Lx/Nx  # Physical grid spacing\n",
    "    NboundaryPadding = 4 # Number of boundary points\n",
    "    \n",
    "    # set the grid parameters at the given resolution\n",
    "    pGrid = (dx, Nx, NboundaryPadding);\n",
    "\n",
    "    # set the time span\n",
    "    tspan = (0, 3.6);\n",
    "\n",
    "    # set the evolution method\n",
    "    time_integration_method = RK4();\n",
    "    \n",
    "    # generate initial conditions\n",
    "    u0 = initial_data(pGrid, pModel, pInit);\n",
    "    \n",
    "    # TODO: implement export of a plot of the initial data\n",
    "        \n",
    "    # set the problem\n",
    "    pHyper = (pGrid, pModel)\n",
    "    prob = ODEProblem(finite_differenced_pde_with_bc!, u0, tspan, pHyper);\n",
    "\n",
    "    sol = solve(\n",
    "        prob, time_integration_method, \n",
    "        saveat = tspan[end]/(3*10^2),\n",
    "        dt=dx/4, \n",
    "        adaptive = false, \n",
    "        dense=false, \n",
    "        maxiters=typemax(Int),\n",
    "        #callback=field_size_callback\n",
    "    );\n",
    "        \n",
    "    # obtain the hamiltonian\n",
    "    hamiltonian = zeros(length(sol.u))\n",
    "    hamphi = zeros(length(sol.u))\n",
    "    hamchi = zeros(length(sol.u))\n",
    "    current_radiationphi = 0\n",
    "    current_radiationchi = 0\n",
    "    radiationphi = zeros(length(sol.u))\n",
    "    radiationchi = zeros(length(sol.u))\n",
    "    for i = 1:length(sol.u)\n",
    "        # radiation\n",
    "        dtMonitor = i <= 1 ? sol.t[i] : sol.t[i] - sol.t[i-1]\n",
    "        current_radiationphi += power_radiated_phi(sol.u[i], pHyper) * dtMonitor\n",
    "        radiationphi[i] = current_radiationphi \n",
    "        current_radiationchi += power_radiated_chi(sol.u[i], pHyper) * dtMonitor\n",
    "        radiationchi[i] = current_radiationchi \n",
    "        # bulk energies        \n",
    "        hamiltonian[i] = nintegrate_simps(hamiltonian_density(sol.u[i], pHyper), dx)\n",
    "        hamphi[i] = nintegrate_simps(hamiltonian_phi(sol.u[i], pHyper), dx)\n",
    "        hamchi[i] = nintegrate_simps(hamiltonian_chi(sol.u[i], pHyper), dx)\n",
    "        # add radiated energy to the total hamiltonian (for convergence)\n",
    "        hamiltonian[i] = hamiltonian[i] + current_radiationphi + current_radiationchi\n",
    "    end\n",
    "    \n",
    "    return (pGrid, sol, hamiltonian, hamphi, hamchi, radiationphi, radiationchi)\n",
    "end"
   ]
  },
  {
   "cell_type": "code",
   "execution_count": 10,
   "id": "d8b6c8c3",
   "metadata": {
    "scrolled": false
   },
   "outputs": [
    {
     "data": {
      "text/plain": [
       "evolution (generic function with 1 method)"
      ]
     },
     "execution_count": 10,
     "metadata": {},
     "output_type": "execute_result"
    }
   ],
   "source": [
    "function evolution(stableRandomSeed, amp)\n",
    "    \n",
    "    Random.seed!(stableRandomSeed) \n",
    "    print(\"persistent random seed: \", stableRandomSeed, \"\\n\")    \n",
    "    print(\"current characteristic amplitude: \", amp, \"\\n\")\n",
    "    \n",
    "    # parameters of the model\n",
    "    mphi2, mchi2 = 0, 0   # masses\n",
    "    lambdaCross = 1\n",
    "    lambdaSelf = 1\n",
    "    sigma = - 1   # ghostly boolean parameter (+1: no ghost; -1: ghost) \n",
    "    Ndim = 3   # number of spatial dimensions\n",
    "    lV, mV, nV = 6, 2, 2   # positive integer exponents in the potentials\n",
    "    \n",
    "    # parameters of the initial data\n",
    "    random_sign_phi = 1 - 2*rand(0:1)\n",
    "    random_sign_chi = 1 - 2*rand(0:1)\n",
    "    x0phi, x0chi = 1, 1   # location parameters\n",
    "    a0phi = random_sign_phi * amp * rand()  # amplitude parameters\n",
    "    a0chi = random_sign_chi * amp * rand()  # amplitude parameters\n",
    "    p0phi, p0chi = (0.01 + 0.09*rand()), (0.01 + 0.09*rand())   # some other parameter (here used as width)\n",
    "    offsetphi, offsetchi = 0, 0   # parameter to control potential offset (TODO) \n",
    "    aStochastic = 0 \n",
    "    mink, maxk, = 0, 0  \n",
    "\n",
    "    # set the combined set of parameters \n",
    "    pModel = (mphi2, mchi2, lambdaCross, lambdaSelf, sigma, Ndim, lV, mV, nV);\n",
    "    pInit = (\n",
    "        x0phi, x0chi, # location parameters\n",
    "        a0phi, a0chi, # amplitude parameters\n",
    "        p0phi, p0chi, # some other parameter (here used as width)\n",
    "        offsetphi, offsetchi, # parameter to control potential offset (TODO) \n",
    "        aStochastic, mink, maxk, stableRandomSeed # preparation for stochastic parameters (TODO)\n",
    "    );\n",
    "     \n",
    "    # set some tables to store output\n",
    "    resTab = [2^i for i in 11:14]\n",
    "    pGridTab = []\n",
    "    solTab = []\n",
    "    hamiltonianTab = []\n",
    "    hamPhiTab = []\n",
    "    hamChiTab = []\n",
    "    radiationPhiTab = []\n",
    "    radiationChiTab = []\n",
    "    \n",
    "    #############################\n",
    "    # evolution\n",
    "    #############################\n",
    "\n",
    "    # run evolution\n",
    "    for res in resTab\n",
    "        print(\"current resolution: \", res, \" ... \\n\")\n",
    "        # run the evolution\n",
    "        @time (pGrid, sol, hamiltonian, hamPhi, hamChi, radiationPhi, radiationChi) = artisan_evolution_at_resolution(\n",
    "            res, stableRandomSeed, pModel, pInit\n",
    "        )\n",
    "        print(\"... terminated\", \"\\n\")\n",
    "        \n",
    "        # append the results\n",
    "        push!(pGridTab, pGrid)\n",
    "        push!(solTab, sol)\n",
    "        push!(hamiltonianTab, hamiltonian)\n",
    "        push!(hamPhiTab, hamPhi)\n",
    "        push!(hamChiTab, hamChi)\n",
    "        push!(radiationPhiTab, radiationPhi)\n",
    "        push!(radiationChiTab, radiationChi)\n",
    "    end\n",
    "    \n",
    "\n",
    "    \n",
    "    #############################\n",
    "    # SAVE OUTPUT DATA\n",
    "    #############################\n",
    "    \n",
    "#     dir_path = \"dat\"\n",
    "#     if !isdir(dir_path)\n",
    "#         mkpath(dir_path)\n",
    "#     end\n",
    "    \n",
    "#     timesteps = solTab[end].t\n",
    "    \n",
    "#     @save joinpath(pwd(), dir_path, string(amp,\".jld2\")) timesteps hamiltonianTab, hamPhiTab hamChiTab radiationPhiTab radiationChiTab\n",
    "    \n",
    "#     print(\"Finished output.\", \"\\n\")\n",
    "    \n",
    "    \n",
    "    #############################\n",
    "    # EXTRACTED ENERGY RATIOS\n",
    "    #############################\n",
    "    \n",
    "    energyPhi = hamPhiTab[end] + radiationPhiTab[end]\n",
    "    energyChi = hamChiTab[end] + radiationChiTab[end]\n",
    "    initialHamiltonian = hamiltonianTab[end][1]\n",
    "    \n",
    "    ratioPhi = abs(energyPhi[1] - energyPhi[end])/(abs(energyPhi[1]) + abs(energyChi[1]))\n",
    "    ratioChi = abs(energyChi[1] - energyChi[end])/(abs(energyPhi[1]) + abs(energyChi[1]))\n",
    "    \n",
    "    print(\"Extracted kinetic energy ratio for phi: \", ratioPhi, \"\\n\")\n",
    "    print(\"Extracted kinetic energy ratio for chi: \", ratioChi, \"\\n\")\n",
    "    \n",
    "    \n",
    "    #############################\n",
    "    # PLOTTING\n",
    "    #############################\n",
    "    \n",
    "    \n",
    "    dir_path = string(\"plots/\",stableRandomSeed,\"/\",amp)\n",
    "\n",
    "    # create the directory if it does not yet exist\n",
    "    if !isdir(dir_path)\n",
    "        print(\"Output plot directory does not exist. Creating it ...\\n\")\n",
    "        mkpath(dir_path)\n",
    "    else\n",
    "        print(\"Output plot directory already exists.\\n\")\n",
    "    end\n",
    "    \n",
    "    # plot and determine convergence \n",
    "    loss_of_convergence_time = save_convergence_plots(\n",
    "        resTab, pGridTab, solTab, hamiltonianTab, \n",
    "        dir_path\n",
    "    )\n",
    "    if loss_of_convergence_time >= solTab[end].t[end]\n",
    "        print(\"Convergence kept at all times.\\n\")\n",
    "    else\n",
    "        print(\"Convergence lost at time t=\",loss_of_convergence_time,\"\\n\")\n",
    "    end\n",
    "    loss_of_convergence_time = solTab[end].t[end]\n",
    "    \n",
    "    # call further plotting routines\n",
    "    \n",
    "    # plot energy components\n",
    "    save_energies_plot(\n",
    "        resTab, pGridTab, solTab, \n",
    "        hamiltonianTab, hamPhiTab, hamChiTab, radiationPhiTab, radiationChiTab,\n",
    "        dir_path,\n",
    "        loss_of_convergence_time=loss_of_convergence_time\n",
    "    )\n",
    "#     save_difference_in_energies_plot(\n",
    "#         resTab, pGridTab, solTab, \n",
    "#         hamiltonianTab, hamPhiTab, hamChiTab,\n",
    "#         dir_path,\n",
    "#         loss_of_convergence_time=loss_of_convergence_time\n",
    "#     )\n",
    "    \n",
    "    # plot density plots of the fields\n",
    "    save_density_plots_for_paper(\n",
    "        solTab[end], pGridTab[end], pModel, pInit,\n",
    "        dir_path,\n",
    "        loss_of_convergence_time=loss_of_convergence_time\n",
    "    )\n",
    "    \n",
    "    # determine the index of convergence loss\n",
    "    loss_of_convergence_index = findfirst(t -> t > loss_of_convergence_time, solTab[end].t)\n",
    "    if loss_of_convergence_index === nothing\n",
    "        loss_of_convergence_index = length(solTab[end].t)\n",
    "    end\n",
    "#     # and then animate the fields\n",
    "#     save_animation_abslog(\n",
    "#         solTab[end][1:max(1,div(loss_of_convergence_index,1*10^2)):loss_of_convergence_index], \n",
    "#         pGridTab[end], pModel, pInit,\n",
    "#         dir_path\n",
    "#     );\n",
    "    save_animation(\n",
    "        solTab[end][1:max(1,div(loss_of_convergence_index,6*10^2)):loss_of_convergence_index], \n",
    "        pGridTab[end], pModel, pInit,\n",
    "        dir_path\n",
    "    );\n",
    "    \n",
    "    print(\"Finished plotting.\", \"\\n\")\n",
    "    \n",
    "    return (ratioPhi, ratioChi)\n",
    "end"
   ]
  },
  {
   "cell_type": "markdown",
   "id": "0d482399",
   "metadata": {},
   "source": [
    "### main()"
   ]
  },
  {
   "cell_type": "code",
   "execution_count": 11,
   "id": "89b66a34",
   "metadata": {},
   "outputs": [
    {
     "data": {
      "text/plain": [
       "main (generic function with 1 method)"
      ]
     },
     "execution_count": 11,
     "metadata": {},
     "output_type": "execute_result"
    }
   ],
   "source": [
    "function main()\n",
    "    \n",
    "    stableRandomSeed = rand(1:10^7)\n",
    "    \n",
    "#     for log2amp in -5:1:5\n",
    "        \n",
    "#         amp = 2.0^log2amp\n",
    "    \n",
    "    for amp in 0.2:0.2:16.\n",
    "    \n",
    "        #############################\n",
    "        # RUN EVOLUTION\n",
    "        #############################\n",
    "        \n",
    "        (ratioPhi, ratioChi) = evolution(stableRandomSeed, amp)\n",
    "        \n",
    "        #############################\n",
    "        # SAVE OUTPUT DATA\n",
    "        #############################\n",
    "\n",
    "        dir_path = \"dat\"\n",
    "        if !isdir(dir_path)\n",
    "            mkpath(dir_path)\n",
    "        end\n",
    "\n",
    "        filename = joinpath(\n",
    "            pwd(),\n",
    "            dir_path,\n",
    "            \"results.jld2\"\n",
    "        )\n",
    "        case_id = string(\"seed=\", stableRandomSeed, \"A=\", amp)\n",
    "\n",
    "        jldopen(filename, \"a+\") do file\n",
    "            # delete if current case already exists\n",
    "            # TODO: implement checks before (for instance on whether precision of existing case is higher than current)\n",
    "            if haskey(file, case_id)\n",
    "                delete!(file, case_id)  # delete existing dataset\n",
    "            end\n",
    "            # then write case into jld2\n",
    "            file[case_id] = (\n",
    "                stableRandomSeed = stableRandomSeed,\n",
    "                amp = amp,\n",
    "                ratioPhi = ratioPhi,\n",
    "                ratioChi = ratioChi\n",
    "            )\n",
    "        end\n",
    "    end\n",
    "    \n",
    "end"
   ]
  },
  {
   "cell_type": "code",
   "execution_count": 12,
   "id": "d62e61f8",
   "metadata": {},
   "outputs": [
    {
     "name": "stdout",
     "output_type": "stream",
     "text": [
      "persistent random seed: 2999001\n",
      "current characteristic amplitude: 0.2\n",
      "current resolution: 512 ... \n",
      "  1.048092 seconds (424.14 k allocations: 362.657 MiB, 4.44% gc time, 68.48% compilation time: 58% of which was recompilation)\n",
      "... terminated\n",
      "current resolution: 1024 ... \n",
      "  1.055724 seconds (270.61 k allocations: 1.246 GiB, 3.14% gc time)\n",
      "... terminated\n",
      "current resolution: 2048 ... \n",
      "  4.300272 seconds (726.06 k allocations: 4.773 GiB, 2.45% gc time)\n",
      "... terminated\n",
      "Extracted kinetic energy ratio for phi: 0.0004222396513133945\n",
      "Extracted kinetic energy ratio for chi: 0.0004047906150769895\n",
      "Output plot directory does not exist. Creating it ...\n",
      "Convergence kept at all times.\n"
     ]
    },
    {
     "name": "stderr",
     "output_type": "stream",
     "text": [
      "GKS: Rectangle definition is invalid in routine SET_VIEWPORT\n",
      "GKS: Rectangle definition is invalid in routine SET_VIEWPORT\n",
      "GKS: Rectangle definition is invalid in routine SET_VIEWPORT\n",
      "GKS: Rectangle definition is invalid in routine SET_VIEWPORT\n"
     ]
    },
    {
     "name": "stdout",
     "output_type": "stream",
     "text": [
      "Finished plotting.\n",
      "persistent random seed: 2999001\n",
      "current characteristic amplitude: 1.0\n",
      "current resolution: 512 ... \n"
     ]
    },
    {
     "name": "stderr",
     "output_type": "stream",
     "text": [
      "\u001b[36m\u001b[1m[ \u001b[22m\u001b[39m\u001b[36m\u001b[1mInfo: \u001b[22m\u001b[39mSaved animation to /home/aaron/Dropbox/university/0_research/2022-2025/stable_ghosts_Paris/field_theory/calculations_aaron/julia_code/n+1_radial/v3/03_extractable_kinetic_energy/D=3_l=4_m=2_n=2/random_amplitude_random_width/plots/2999001/0.2/animation_Nx=2048.mp4\n"
     ]
    },
    {
     "name": "stdout",
     "output_type": "stream",
     "text": [
      "  0.348323 seconds (145.20 k allocations: 345.071 MiB, 10.33% gc time)\n",
      "... terminated\n",
      "current resolution: 1024 ... \n",
      "  1.045854 seconds (270.61 k allocations: 1.246 GiB, 2.91% gc time)\n",
      "... terminated\n",
      "current resolution: 2048 ... \n",
      "  4.621539 seconds (726.07 k allocations: 4.773 GiB, 2.44% gc time)\n",
      "... terminated\n",
      "Extracted kinetic energy ratio for phi: 0.09375172706079432\n",
      "Extracted kinetic energy ratio for chi: 0.0932865061116282\n",
      "Output plot directory does not exist. Creating it ...\n",
      "Convergence kept at all times.\n"
     ]
    },
    {
     "name": "stderr",
     "output_type": "stream",
     "text": [
      "GKS: Rectangle definition is invalid in routine SET_VIEWPORT\n",
      "GKS: Rectangle definition is invalid in routine SET_VIEWPORT\n",
      "GKS: Rectangle definition is invalid in routine SET_VIEWPORT\n",
      "GKS: Rectangle definition is invalid in routine SET_VIEWPORT\n"
     ]
    },
    {
     "name": "stdout",
     "output_type": "stream",
     "text": [
      "Finished plotting.\n",
      "persistent random seed: 2999001\n",
      "current characteristic amplitude: 1.8\n",
      "current resolution: 512 ... \n"
     ]
    },
    {
     "name": "stderr",
     "output_type": "stream",
     "text": [
      "\u001b[36m\u001b[1m[ \u001b[22m\u001b[39m\u001b[36m\u001b[1mInfo: \u001b[22m\u001b[39mSaved animation to /home/aaron/Dropbox/university/0_research/2022-2025/stable_ghosts_Paris/field_theory/calculations_aaron/julia_code/n+1_radial/v3/03_extractable_kinetic_energy/D=3_l=4_m=2_n=2/random_amplitude_random_width/plots/2999001/1.0/animation_Nx=2048.mp4\n"
     ]
    },
    {
     "name": "stdout",
     "output_type": "stream",
     "text": [
      "  0.317319 seconds (145.20 k allocations: 345.071 MiB, 3.79% gc time)\n",
      "... terminated\n",
      "current resolution: 1024 ... \n",
      "  1.431119 seconds (270.62 k allocations: 1.246 GiB, 2.56% gc time)\n",
      "... terminated\n",
      "current resolution: 2048 ... \n",
      "  4.627192 seconds (726.07 k allocations: 4.773 GiB, 2.37% gc time)\n",
      "... terminated\n",
      "Extracted kinetic energy ratio for phi: 0.19897989792845916\n",
      "Extracted kinetic energy ratio for chi: 0.19739697499747877\n",
      "Output plot directory does not exist. Creating it ...\n",
      "Convergence kept at all times.\n"
     ]
    },
    {
     "name": "stderr",
     "output_type": "stream",
     "text": [
      "GKS: Rectangle definition is invalid in routine SET_VIEWPORT\n",
      "GKS: Rectangle definition is invalid in routine SET_VIEWPORT\n",
      "GKS: Rectangle definition is invalid in routine SET_VIEWPORT\n",
      "GKS: Rectangle definition is invalid in routine SET_VIEWPORT\n"
     ]
    },
    {
     "name": "stdout",
     "output_type": "stream",
     "text": [
      "Finished plotting.\n",
      "persistent random seed: 2999001\n",
      "current characteristic amplitude: 2.6\n",
      "current resolution: 512 ... \n"
     ]
    },
    {
     "name": "stderr",
     "output_type": "stream",
     "text": [
      "\u001b[36m\u001b[1m[ \u001b[22m\u001b[39m\u001b[36m\u001b[1mInfo: \u001b[22m\u001b[39mSaved animation to /home/aaron/Dropbox/university/0_research/2022-2025/stable_ghosts_Paris/field_theory/calculations_aaron/julia_code/n+1_radial/v3/03_extractable_kinetic_energy/D=3_l=4_m=2_n=2/random_amplitude_random_width/plots/2999001/1.8/animation_Nx=2048.mp4\n"
     ]
    },
    {
     "name": "stdout",
     "output_type": "stream",
     "text": [
      "  0.339250 seconds (145.20 k allocations: 345.071 MiB, 5.21% gc time)\n",
      "... terminated\n",
      "current resolution: 1024 ... \n",
      "  1.130980 seconds (270.62 k allocations: 1.246 GiB, 2.94% gc time)\n",
      "... terminated\n",
      "current resolution: 2048 ... \n",
      "  4.524956 seconds (726.07 k allocations: 4.773 GiB, 2.26% gc time)\n",
      "... terminated\n",
      "Extracted kinetic energy ratio for phi: 0.26705178520652556\n",
      "Extracted kinetic energy ratio for chi: 0.2637780005180445\n",
      "Output plot directory does not exist. Creating it ...\n",
      "Convergence kept at all times.\n"
     ]
    },
    {
     "name": "stderr",
     "output_type": "stream",
     "text": [
      "GKS: Rectangle definition is invalid in routine SET_VIEWPORT\n",
      "GKS: Rectangle definition is invalid in routine SET_VIEWPORT\n",
      "GKS: Rectangle definition is invalid in routine SET_VIEWPORT\n",
      "GKS: Rectangle definition is invalid in routine SET_VIEWPORT\n"
     ]
    },
    {
     "name": "stdout",
     "output_type": "stream",
     "text": [
      "Finished plotting.\n",
      "persistent random seed: 2999001\n",
      "current characteristic amplitude: 3.4\n",
      "current resolution: 512 ... \n"
     ]
    },
    {
     "name": "stderr",
     "output_type": "stream",
     "text": [
      "\u001b[36m\u001b[1m[ \u001b[22m\u001b[39m\u001b[36m\u001b[1mInfo: \u001b[22m\u001b[39mSaved animation to /home/aaron/Dropbox/university/0_research/2022-2025/stable_ghosts_Paris/field_theory/calculations_aaron/julia_code/n+1_radial/v3/03_extractable_kinetic_energy/D=3_l=4_m=2_n=2/random_amplitude_random_width/plots/2999001/2.6/animation_Nx=2048.mp4\n"
     ]
    },
    {
     "name": "stdout",
     "output_type": "stream",
     "text": [
      "  0.360444 seconds (145.20 k allocations: 345.071 MiB, 4.83% gc time)\n",
      "... terminated\n",
      "current resolution: 1024 ... \n",
      "  1.292373 seconds (270.62 k allocations: 1.246 GiB, 2.99% gc time)\n",
      "... terminated\n",
      "current resolution: 2048 ... \n",
      "  4.449671 seconds (726.07 k allocations: 4.773 GiB, 2.53% gc time)\n",
      "... terminated\n",
      "Extracted kinetic energy ratio for phi: 0.22649215141588944\n",
      "Extracted kinetic energy ratio for chi: 0.22085759108081568\n",
      "Output plot directory does not exist. Creating it ...\n",
      "Convergence kept at all times.\n"
     ]
    },
    {
     "name": "stderr",
     "output_type": "stream",
     "text": [
      "GKS: Rectangle definition is invalid in routine SET_VIEWPORT\n",
      "GKS: Rectangle definition is invalid in routine SET_VIEWPORT\n",
      "GKS: Rectangle definition is invalid in routine SET_VIEWPORT\n",
      "GKS: Rectangle definition is invalid in routine SET_VIEWPORT\n"
     ]
    },
    {
     "name": "stdout",
     "output_type": "stream",
     "text": [
      "Finished plotting.\n",
      "persistent random seed: 2999001\n",
      "current characteristic amplitude: 4.2\n",
      "current resolution: 512 ... \n"
     ]
    },
    {
     "name": "stderr",
     "output_type": "stream",
     "text": [
      "\u001b[36m\u001b[1m[ \u001b[22m\u001b[39m\u001b[36m\u001b[1mInfo: \u001b[22m\u001b[39mSaved animation to /home/aaron/Dropbox/university/0_research/2022-2025/stable_ghosts_Paris/field_theory/calculations_aaron/julia_code/n+1_radial/v3/03_extractable_kinetic_energy/D=3_l=4_m=2_n=2/random_amplitude_random_width/plots/2999001/3.4/animation_Nx=2048.mp4\n"
     ]
    },
    {
     "name": "stdout",
     "output_type": "stream",
     "text": [
      "  0.319470 seconds (145.20 k allocations: 345.071 MiB, 2.96% gc time)\n",
      "... terminated\n",
      "current resolution: 1024 ... \n",
      "  1.147200 seconds (270.62 k allocations: 1.246 GiB, 2.78% gc time)\n",
      "... terminated\n",
      "current resolution: 2048 ... \n",
      "  4.210322 seconds (726.06 k allocations: 4.773 GiB, 2.25% gc time)\n",
      "... terminated\n",
      "Extracted kinetic energy ratio for phi: 0.1451195454231579\n",
      "Extracted kinetic energy ratio for chi: 0.13649830398691282\n",
      "Output plot directory does not exist. Creating it ...\n",
      "Convergence kept at all times.\n"
     ]
    },
    {
     "name": "stderr",
     "output_type": "stream",
     "text": [
      "GKS: Rectangle definition is invalid in routine SET_VIEWPORT\n",
      "GKS: Rectangle definition is invalid in routine SET_VIEWPORT\n",
      "GKS: Rectangle definition is invalid in routine SET_VIEWPORT\n",
      "GKS: Rectangle definition is invalid in routine SET_VIEWPORT\n"
     ]
    },
    {
     "name": "stdout",
     "output_type": "stream",
     "text": [
      "Finished plotting.\n",
      "persistent random seed: 2999001\n",
      "current characteristic amplitude: 5.0\n",
      "current resolution: 512 ... \n"
     ]
    },
    {
     "name": "stderr",
     "output_type": "stream",
     "text": [
      "\u001b[36m\u001b[1m[ \u001b[22m\u001b[39m\u001b[36m\u001b[1mInfo: \u001b[22m\u001b[39mSaved animation to /home/aaron/Dropbox/university/0_research/2022-2025/stable_ghosts_Paris/field_theory/calculations_aaron/julia_code/n+1_radial/v3/03_extractable_kinetic_energy/D=3_l=4_m=2_n=2/random_amplitude_random_width/plots/2999001/4.2/animation_Nx=2048.mp4\n"
     ]
    },
    {
     "name": "stdout",
     "output_type": "stream",
     "text": [
      "  0.322096 seconds (145.20 k allocations: 345.071 MiB, 4.04% gc time)\n",
      "... terminated\n",
      "current resolution: 1024 ... \n",
      "  1.059181 seconds (270.61 k allocations: 1.246 GiB, 2.91% gc time)\n",
      "... terminated\n",
      "current resolution: 2048 ... \n",
      "  3.988566 seconds (726.05 k allocations: 4.773 GiB, 2.53% gc time)\n",
      "... terminated\n",
      "Extracted kinetic energy ratio for phi: 0.10414612556068037\n",
      "Extracted kinetic energy ratio for chi: 0.09205894489376716\n",
      "Output plot directory does not exist. Creating it ...\n",
      "Convergence kept at all times.\n"
     ]
    },
    {
     "name": "stderr",
     "output_type": "stream",
     "text": [
      "GKS: Rectangle definition is invalid in routine SET_VIEWPORT\n",
      "GKS: Rectangle definition is invalid in routine SET_VIEWPORT\n",
      "GKS: Rectangle definition is invalid in routine SET_VIEWPORT\n",
      "GKS: Rectangle definition is invalid in routine SET_VIEWPORT\n"
     ]
    },
    {
     "ename": "LoadError",
     "evalue": "InterruptException:",
     "output_type": "error",
     "traceback": [
      "InterruptException:",
      "",
      "Stacktrace:",
      "  [1] setindex!(::Base.EnvDict, v::String, k::String)",
      "    @ Base ./env.jl:167",
      "  [2] withenv(::Plots.var\"#557#558\"{Plots.Plot{Plots.GRBackend}, Float64}, ::Pair{String, String}, ::Vararg{Pair{String, String}})",
      "    @ Base ./env.jl:260",
      "  [3] _show(io::IOStream, ::MIME{Symbol(\"image/png\")}, plt::Plots.Plot{Plots.GRBackend})",
      "    @ Plots ~/.julia/packages/Plots/kLeqV/src/backends/gr.jl:2081",
      "  [4] #invokelatest#2",
      "    @ ./essentials.jl:892 [inlined]",
      "  [5] invokelatest",
      "    @ ./essentials.jl:889 [inlined]",
      "  [6] show",
      "    @ ~/.julia/packages/Plots/kLeqV/src/output.jl:232 [inlined]",
      "  [7] #346",
      "    @ ~/.julia/packages/Plots/kLeqV/src/output.jl:6 [inlined]",
      "  [8] open(::Plots.var\"#346#347\"{Plots.Plot{Plots.GRBackend}}, ::String, ::Vararg{String}; kwargs::@Kwargs{})",
      "    @ Base ./io.jl:396",
      "  [9] open",
      "    @ ./io.jl:393 [inlined]",
      " [10] png",
      "    @ ~/.julia/packages/Plots/kLeqV/src/output.jl:6 [inlined]",
      " [11] frame(anim::Animation, plt::Plots.Plot{Plots.GRBackend})",
      "    @ Plots ~/.julia/packages/Plots/kLeqV/src/animation.jl:26",
      " [12] frame(anim::Animation)",
      "    @ Plots ~/.julia/packages/Plots/kLeqV/src/animation.jl:24",
      " [13] macro expansion",
      "    @ ~/.julia/packages/Plots/kLeqV/src/animation.jl:232 [inlined]",
      " [14] macro expansion",
      "    @ ~/Dropbox/university/0_research/2022-2025/stable_ghosts_Paris/field_theory/calculations_aaron/julia_code/n+1_radial/v3/src/visualisation_L=4.jl:63 [inlined]",
      " [15] macro expansion",
      "    @ ~/.julia/packages/Plots/kLeqV/src/animation.jl:251 [inlined]",
      " [16] save_animation(sol::ODESolution{Float64, 3, Vector{Matrix{Float64}}, Nothing, Nothing, Vector{Float64}, Vector{Vector{Matrix{Float64}}}, ODEProblem{Matrix{Float64}, Tuple{Float64, Float64}, true, Tuple{Tuple{Float64, Int64, Int64}, NTuple{9, Int64}}, ODEFunction{true, SciMLBase.AutoSpecialize, FunctionWrappersWrappers.FunctionWrappersWrapper{Tuple{FunctionWrappers.FunctionWrapper{Nothing, Tuple{Matrix{Float64}, Matrix{Float64}, Tuple{Tuple{Float64, Int64, Int64}, NTuple{9, Int64}}, Float64}}, FunctionWrappers.FunctionWrapper{Nothing, Tuple{Matrix{ForwardDiff.Dual{ForwardDiff.Tag{DiffEqBase.OrdinaryDiffEqTag, Float64}, Float64, 1}}, Matrix{ForwardDiff.Dual{ForwardDiff.Tag{DiffEqBase.OrdinaryDiffEqTag, Float64}, Float64, 1}}, Tuple{Tuple{Float64, Int64, Int64}, NTuple{9, Int64}}, Float64}}, FunctionWrappers.FunctionWrapper{Nothing, Tuple{Matrix{ForwardDiff.Dual{ForwardDiff.Tag{DiffEqBase.OrdinaryDiffEqTag, Float64}, Float64, 1}}, Matrix{Float64}, Tuple{Tuple{Float64, Int64, Int64}, NTuple{9, Int64}}, ForwardDiff.Dual{ForwardDiff.Tag{DiffEqBase.OrdinaryDiffEqTag, Float64}, Float64, 1}}}, FunctionWrappers.FunctionWrapper{Nothing, Tuple{Matrix{ForwardDiff.Dual{ForwardDiff.Tag{DiffEqBase.OrdinaryDiffEqTag, Float64}, Float64, 1}}, Matrix{ForwardDiff.Dual{ForwardDiff.Tag{DiffEqBase.OrdinaryDiffEqTag, Float64}, Float64, 1}}, Tuple{Tuple{Float64, Int64, Int64}, NTuple{9, Int64}}, ForwardDiff.Dual{ForwardDiff.Tag{DiffEqBase.OrdinaryDiffEqTag, Float64}, Float64, 1}}}}, false}, UniformScaling{Bool}, Nothing, Nothing, Nothing, Nothing, Nothing, Nothing, Nothing, Nothing, Nothing, Nothing, Nothing, typeof(SciMLBase.DEFAULT_OBSERVED), Nothing, SymbolicIndexingInterface.SymbolCache{Nothing, Nothing, Nothing, Nothing, Dict{Any, Any}}, Nothing, Nothing}, @Kwargs{}, SciMLBase.StandardODEProblem}, RK4{typeof(OrdinaryDiffEq.trivial_limiter!), typeof(OrdinaryDiffEq.trivial_limiter!), Static.False}, OrdinaryDiffEq.InterpolationData{ODEFunction{true, SciMLBase.AutoSpecialize, FunctionWrappersWrappers.FunctionWrappersWrapper{Tuple{FunctionWrappers.FunctionWrapper{Nothing, Tuple{Matrix{Float64}, Matrix{Float64}, Tuple{Tuple{Float64, Int64, Int64}, NTuple{9, Int64}}, Float64}}, FunctionWrappers.FunctionWrapper{Nothing, Tuple{Matrix{ForwardDiff.Dual{ForwardDiff.Tag{DiffEqBase.OrdinaryDiffEqTag, Float64}, Float64, 1}}, Matrix{ForwardDiff.Dual{ForwardDiff.Tag{DiffEqBase.OrdinaryDiffEqTag, Float64}, Float64, 1}}, Tuple{Tuple{Float64, Int64, Int64}, NTuple{9, Int64}}, Float64}}, FunctionWrappers.FunctionWrapper{Nothing, Tuple{Matrix{ForwardDiff.Dual{ForwardDiff.Tag{DiffEqBase.OrdinaryDiffEqTag, Float64}, Float64, 1}}, Matrix{Float64}, Tuple{Tuple{Float64, Int64, Int64}, NTuple{9, Int64}}, ForwardDiff.Dual{ForwardDiff.Tag{DiffEqBase.OrdinaryDiffEqTag, Float64}, Float64, 1}}}, FunctionWrappers.FunctionWrapper{Nothing, Tuple{Matrix{ForwardDiff.Dual{ForwardDiff.Tag{DiffEqBase.OrdinaryDiffEqTag, Float64}, Float64, 1}}, Matrix{ForwardDiff.Dual{ForwardDiff.Tag{DiffEqBase.OrdinaryDiffEqTag, Float64}, Float64, 1}}, Tuple{Tuple{Float64, Int64, Int64}, NTuple{9, Int64}}, ForwardDiff.Dual{ForwardDiff.Tag{DiffEqBase.OrdinaryDiffEqTag, Float64}, Float64, 1}}}}, false}, UniformScaling{Bool}, Nothing, Nothing, Nothing, Nothing, Nothing, Nothing, Nothing, Nothing, Nothing, Nothing, Nothing, typeof(SciMLBase.DEFAULT_OBSERVED), Nothing, SymbolicIndexingInterface.SymbolCache{Nothing, Nothing, Nothing, Nothing, Dict{Any, Any}}, Nothing, Nothing}, Vector{Matrix{Float64}}, Vector{Float64}, Vector{Vector{Matrix{Float64}}}, Nothing, OrdinaryDiffEq.RK4Cache{Matrix{Float64}, Matrix{Float64}, Matrix{Float64}, typeof(OrdinaryDiffEq.trivial_limiter!), typeof(OrdinaryDiffEq.trivial_limiter!), Static.False}, Nothing}, SciMLBase.DEStats, Nothing}, pGrid::Tuple{Float64, Int64, Int64}, pModel::NTuple{9, Int64}, pInit::Tuple{Int64, Int64, Float64, Float64, Float64, Float64, Vararg{Int64, 6}}, dir_path::String; fps::Int64)",
      "    @ Main ~/Dropbox/university/0_research/2022-2025/stable_ghosts_Paris/field_theory/calculations_aaron/julia_code/n+1_radial/v3/src/visualisation_L=4.jl:22",
      " [17] save_animation(sol::ODESolution{Float64, 3, Vector{Matrix{Float64}}, Nothing, Nothing, Vector{Float64}, Vector{Vector{Matrix{Float64}}}, ODEProblem{Matrix{Float64}, Tuple{Float64, Float64}, true, Tuple{Tuple{Float64, Int64, Int64}, NTuple{9, Int64}}, ODEFunction{true, SciMLBase.AutoSpecialize, FunctionWrappersWrappers.FunctionWrappersWrapper{Tuple{FunctionWrappers.FunctionWrapper{Nothing, Tuple{Matrix{Float64}, Matrix{Float64}, Tuple{Tuple{Float64, Int64, Int64}, NTuple{9, Int64}}, Float64}}, FunctionWrappers.FunctionWrapper{Nothing, Tuple{Matrix{ForwardDiff.Dual{ForwardDiff.Tag{DiffEqBase.OrdinaryDiffEqTag, Float64}, Float64, 1}}, Matrix{ForwardDiff.Dual{ForwardDiff.Tag{DiffEqBase.OrdinaryDiffEqTag, Float64}, Float64, 1}}, Tuple{Tuple{Float64, Int64, Int64}, NTuple{9, Int64}}, Float64}}, FunctionWrappers.FunctionWrapper{Nothing, Tuple{Matrix{ForwardDiff.Dual{ForwardDiff.Tag{DiffEqBase.OrdinaryDiffEqTag, Float64}, Float64, 1}}, Matrix{Float64}, Tuple{Tuple{Float64, Int64, Int64}, NTuple{9, Int64}}, ForwardDiff.Dual{ForwardDiff.Tag{DiffEqBase.OrdinaryDiffEqTag, Float64}, Float64, 1}}}, FunctionWrappers.FunctionWrapper{Nothing, Tuple{Matrix{ForwardDiff.Dual{ForwardDiff.Tag{DiffEqBase.OrdinaryDiffEqTag, Float64}, Float64, 1}}, Matrix{ForwardDiff.Dual{ForwardDiff.Tag{DiffEqBase.OrdinaryDiffEqTag, Float64}, Float64, 1}}, Tuple{Tuple{Float64, Int64, Int64}, NTuple{9, Int64}}, ForwardDiff.Dual{ForwardDiff.Tag{DiffEqBase.OrdinaryDiffEqTag, Float64}, Float64, 1}}}}, false}, UniformScaling{Bool}, Nothing, Nothing, Nothing, Nothing, Nothing, Nothing, Nothing, Nothing, Nothing, Nothing, Nothing, typeof(SciMLBase.DEFAULT_OBSERVED), Nothing, SymbolicIndexingInterface.SymbolCache{Nothing, Nothing, Nothing, Nothing, Dict{Any, Any}}, Nothing, Nothing}, @Kwargs{}, SciMLBase.StandardODEProblem}, RK4{typeof(OrdinaryDiffEq.trivial_limiter!), typeof(OrdinaryDiffEq.trivial_limiter!), Static.False}, OrdinaryDiffEq.InterpolationData{ODEFunction{true, SciMLBase.AutoSpecialize, FunctionWrappersWrappers.FunctionWrappersWrapper{Tuple{FunctionWrappers.FunctionWrapper{Nothing, Tuple{Matrix{Float64}, Matrix{Float64}, Tuple{Tuple{Float64, Int64, Int64}, NTuple{9, Int64}}, Float64}}, FunctionWrappers.FunctionWrapper{Nothing, Tuple{Matrix{ForwardDiff.Dual{ForwardDiff.Tag{DiffEqBase.OrdinaryDiffEqTag, Float64}, Float64, 1}}, Matrix{ForwardDiff.Dual{ForwardDiff.Tag{DiffEqBase.OrdinaryDiffEqTag, Float64}, Float64, 1}}, Tuple{Tuple{Float64, Int64, Int64}, NTuple{9, Int64}}, Float64}}, FunctionWrappers.FunctionWrapper{Nothing, Tuple{Matrix{ForwardDiff.Dual{ForwardDiff.Tag{DiffEqBase.OrdinaryDiffEqTag, Float64}, Float64, 1}}, Matrix{Float64}, Tuple{Tuple{Float64, Int64, Int64}, NTuple{9, Int64}}, ForwardDiff.Dual{ForwardDiff.Tag{DiffEqBase.OrdinaryDiffEqTag, Float64}, Float64, 1}}}, FunctionWrappers.FunctionWrapper{Nothing, Tuple{Matrix{ForwardDiff.Dual{ForwardDiff.Tag{DiffEqBase.OrdinaryDiffEqTag, Float64}, Float64, 1}}, Matrix{ForwardDiff.Dual{ForwardDiff.Tag{DiffEqBase.OrdinaryDiffEqTag, Float64}, Float64, 1}}, Tuple{Tuple{Float64, Int64, Int64}, NTuple{9, Int64}}, ForwardDiff.Dual{ForwardDiff.Tag{DiffEqBase.OrdinaryDiffEqTag, Float64}, Float64, 1}}}}, false}, UniformScaling{Bool}, Nothing, Nothing, Nothing, Nothing, Nothing, Nothing, Nothing, Nothing, Nothing, Nothing, Nothing, typeof(SciMLBase.DEFAULT_OBSERVED), Nothing, SymbolicIndexingInterface.SymbolCache{Nothing, Nothing, Nothing, Nothing, Dict{Any, Any}}, Nothing, Nothing}, Vector{Matrix{Float64}}, Vector{Float64}, Vector{Vector{Matrix{Float64}}}, Nothing, OrdinaryDiffEq.RK4Cache{Matrix{Float64}, Matrix{Float64}, Matrix{Float64}, typeof(OrdinaryDiffEq.trivial_limiter!), typeof(OrdinaryDiffEq.trivial_limiter!), Static.False}, Nothing}, SciMLBase.DEStats, Nothing}, pGrid::Tuple{Float64, Int64, Int64}, pModel::NTuple{9, Int64}, pInit::Tuple{Int64, Int64, Float64, Float64, Float64, Float64, Vararg{Int64, 6}}, dir_path::String)",
      "    @ Main ~/Dropbox/university/0_research/2022-2025/stable_ghosts_Paris/field_theory/calculations_aaron/julia_code/n+1_radial/v3/src/visualisation_L=4.jl:8",
      " [18] evolution(stableRandomSeed::Int64, amp::Float64)",
      "    @ Main ./In[10]:163",
      " [19] main()",
      "    @ Main ./In[11]:15",
      " [20] top-level scope",
      "    @ In[12]:1"
     ]
    }
   ],
   "source": [
    "main()"
   ]
  },
  {
   "cell_type": "markdown",
   "id": "130a44ae",
   "metadata": {},
   "source": [
    "### output"
   ]
  },
  {
   "cell_type": "code",
   "execution_count": 2,
   "id": "4edd4e1e",
   "metadata": {},
   "outputs": [],
   "source": [
    "using NBInclude\n",
    "nbexport(\"main.jl\", \"main.ipynb\")"
   ]
  },
  {
   "cell_type": "code",
   "execution_count": null,
   "id": "2f2196cd",
   "metadata": {},
   "outputs": [],
   "source": []
  },
  {
   "cell_type": "code",
   "execution_count": null,
   "id": "bddb2073",
   "metadata": {},
   "outputs": [],
   "source": []
  },
  {
   "cell_type": "code",
   "execution_count": null,
   "id": "92d75c28",
   "metadata": {},
   "outputs": [],
   "source": []
  },
  {
   "cell_type": "code",
   "execution_count": null,
   "id": "9f1c4f50",
   "metadata": {},
   "outputs": [],
   "source": []
  },
  {
   "cell_type": "code",
   "execution_count": null,
   "id": "e4c3db12",
   "metadata": {},
   "outputs": [],
   "source": []
  }
 ],
 "metadata": {
  "kernelspec": {
   "display_name": "Julia 1.10.1",
   "language": "julia",
   "name": "julia-1.10"
  },
  "language_info": {
   "file_extension": ".jl",
   "mimetype": "application/julia",
   "name": "julia",
   "version": "1.10.1"
  }
 },
 "nbformat": 4,
 "nbformat_minor": 5
}
